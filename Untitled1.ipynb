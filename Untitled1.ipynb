{
  "nbformat": 4,
  "nbformat_minor": 0,
  "metadata": {
    "colab": {
      "name": "Untitled1.ipynb",
      "version": "0.3.2",
      "provenance": [],
      "include_colab_link": true
    },
    "kernelspec": {
      "name": "python3",
      "display_name": "Python 3"
    }
  },
  "cells": [
    {
      "cell_type": "markdown",
      "metadata": {
        "id": "view-in-github",
        "colab_type": "text"
      },
      "source": [
        "<a href=\"https://colab.research.google.com/github/wander1501/curso_phyton/blob/master/Untitled1.ipynb\" target=\"_parent\"><img src=\"https://colab.research.google.com/assets/colab-badge.svg\" alt=\"Open In Colab\"/></a>"
      ]
    },
    {
      "metadata": {
        "id": "ERfsA8wnRtx-",
        "colab_type": "code",
        "outputId": "dc5ecd02-a8de-4cad-a6c6-700562a9bb9b",
        "colab": {
          "base_uri": "https://localhost:8080/",
          "height": 34
        }
      },
      "cell_type": "code",
      "source": [
        "lista = [2, 3, 10, 50, 25]\n",
        "sum(lista)"
      ],
      "execution_count": 0,
      "outputs": [
        {
          "output_type": "execute_result",
          "data": {
            "text/plain": [
              "90"
            ]
          },
          "metadata": {
            "tags": []
          },
          "execution_count": 3
        }
      ]
    },
    {
      "metadata": {
        "id": "pLzWm5NNR5je",
        "colab_type": "code",
        "outputId": "ef55950f-d2fb-43ca-ad11-21791521134a",
        "colab": {
          "base_uri": "https://localhost:8080/",
          "height": 34
        }
      },
      "cell_type": "code",
      "source": [
        "10 in lista"
      ],
      "execution_count": 0,
      "outputs": [
        {
          "output_type": "execute_result",
          "data": {
            "text/plain": [
              "False"
            ]
          },
          "metadata": {
            "tags": []
          },
          "execution_count": 2
        }
      ]
    },
    {
      "metadata": {
        "id": "O3rmXa5wSHaY",
        "colab_type": "code",
        "outputId": "49e10abb-3154-4998-b97f-bee4c5eee1ac",
        "colab": {
          "base_uri": "https://localhost:8080/",
          "height": 69
        }
      },
      "cell_type": "code",
      "source": [
        "achei = 10 in lista\n",
        "print(achei)\n",
        "print(type(achei))\n",
        "type(achei)"
      ],
      "execution_count": 0,
      "outputs": [
        {
          "output_type": "stream",
          "text": [
            "True\n",
            "<class 'bool'>\n"
          ],
          "name": "stdout"
        },
        {
          "output_type": "execute_result",
          "data": {
            "text/plain": [
              "bool"
            ]
          },
          "metadata": {
            "tags": []
          },
          "execution_count": 29
        }
      ]
    },
    {
      "metadata": {
        "id": "VKOnEAUvSwPu",
        "colab_type": "code",
        "outputId": "ea3da9ff-daa9-4690-959e-99c1a6ca5558",
        "colab": {
          "base_uri": "https://localhost:8080/",
          "height": 34
        }
      },
      "cell_type": "code",
      "source": [
        "achei = 10 in lista\n",
        "if (achei):\n",
        "   print(\"Encontrei o número\")\n",
        "else:\n",
        "   print(\"Não encontrei o número\")"
      ],
      "execution_count": 0,
      "outputs": [
        {
          "output_type": "stream",
          "text": [
            "Não encontrei o número\n"
          ],
          "name": "stdout"
        }
      ]
    },
    {
      "metadata": {
        "id": "n_EM62zXTbrq",
        "colab_type": "code",
        "outputId": "66a9552c-504f-4d38-8037-50d39e016ea5",
        "colab": {
          "base_uri": "https://localhost:8080/",
          "height": 34
        }
      },
      "cell_type": "code",
      "source": [
        "lista.index(50)"
      ],
      "execution_count": 0,
      "outputs": [
        {
          "output_type": "execute_result",
          "data": {
            "text/plain": [
              "3"
            ]
          },
          "metadata": {
            "tags": []
          },
          "execution_count": 9
        }
      ]
    },
    {
      "metadata": {
        "id": "Shu4Lx96Tr2a",
        "colab_type": "code",
        "outputId": "f8e2e00f-5013-4647-c309-7b16eee96102",
        "colab": {
          "base_uri": "https://localhost:8080/",
          "height": 34
        }
      },
      "cell_type": "code",
      "source": [
        "v = 1\n",
        "try:\n",
        "  lista.index(v)\n",
        "  print(\"Encontrei\")\n",
        "except ValueError as ve:\n",
        "  print(\"O número não existe\")"
      ],
      "execution_count": 0,
      "outputs": [
        {
          "output_type": "stream",
          "text": [
            "O número não existe\n"
          ],
          "name": "stdout"
        }
      ]
    },
    {
      "metadata": {
        "id": "YgBslnPMVqc-",
        "colab_type": "code",
        "outputId": "dd4292bc-34df-414c-afcb-6febfd3c5bb2",
        "colab": {
          "base_uri": "https://localhost:8080/",
          "height": 139
        }
      },
      "cell_type": "code",
      "source": [
        "dicionario1 = {\"Aluno 1\": 8.0, \"Aluno 2\": 5.0}\n",
        "print(dicionario1[\"Aluno 1\"])\n",
        "print(dicionario1[\"Aluno 2\"])\n",
        "dicionario2 = {\"Aluno 1\": [8.0, 6.0], \"Aluno 2\": 5.0}\n",
        "print(dicionario2[\"Aluno 1\"])\n",
        "print(dicionario2[\"Aluno 1\"][1])\n",
        "dicionario3 = {\"Aluno 1\": {\"Cálculo\":5.0, \"Phyton\":7.0}, \"Aluno 2\": 5.0}\n",
        "print(dicionario3[\"Aluno 1\"])\n",
        "print(dicionario3[\"Aluno 1\"][\"Cálculo\"])\n",
        "type(dicionario1)"
      ],
      "execution_count": 0,
      "outputs": [
        {
          "output_type": "stream",
          "text": [
            "8.0\n",
            "5.0\n",
            "[8.0, 6.0]\n",
            "6.0\n",
            "{'Cálculo': 5.0, 'Phyton': 7.0}\n",
            "5.0\n"
          ],
          "name": "stdout"
        },
        {
          "output_type": "execute_result",
          "data": {
            "text/plain": [
              "dict"
            ]
          },
          "metadata": {
            "tags": []
          },
          "execution_count": 28
        }
      ]
    },
    {
      "metadata": {
        "id": "aFvF2d5yY4EU",
        "colab_type": "code",
        "outputId": "dd1b41fe-2f9a-48eb-9060-74bfd395faf5",
        "colab": {
          "base_uri": "https://localhost:8080/",
          "height": 52
        }
      },
      "cell_type": "code",
      "source": [
        "tupla = (1, 2)\n",
        "print(tupla)\n",
        "type(tupla)"
      ],
      "execution_count": 0,
      "outputs": [
        {
          "output_type": "stream",
          "text": [
            "(1, 2)\n"
          ],
          "name": "stdout"
        },
        {
          "output_type": "execute_result",
          "data": {
            "text/plain": [
              "tuple"
            ]
          },
          "metadata": {
            "tags": []
          },
          "execution_count": 30
        }
      ]
    },
    {
      "metadata": {
        "id": "UHblCAI-bwX6",
        "colab_type": "code",
        "outputId": "fb5c23b1-2d13-4d38-dbba-e867a8971d43",
        "colab": {
          "base_uri": "https://localhost:8080/",
          "height": 34
        }
      },
      "cell_type": "code",
      "source": [
        "conjunto = {1, 4, 8}\n",
        "conjunto"
      ],
      "execution_count": 0,
      "outputs": [
        {
          "output_type": "execute_result",
          "data": {
            "text/plain": [
              "{1, 4, 8}"
            ]
          },
          "metadata": {
            "tags": []
          },
          "execution_count": 38
        }
      ]
    },
    {
      "metadata": {
        "id": "2U7FgpQ7cIRq",
        "colab_type": "code",
        "outputId": "2f07dccd-4b82-4fcc-a33a-9ba6eab978f0",
        "colab": {
          "base_uri": "https://localhost:8080/",
          "height": 52
        }
      },
      "cell_type": "code",
      "source": [
        "print(conjunto)\n",
        "type(conjunto)\n"
      ],
      "execution_count": 0,
      "outputs": [
        {
          "output_type": "stream",
          "text": [
            "{8, 1, 4}\n"
          ],
          "name": "stdout"
        },
        {
          "output_type": "execute_result",
          "data": {
            "text/plain": [
              "set"
            ]
          },
          "metadata": {
            "tags": []
          },
          "execution_count": 35
        }
      ]
    },
    {
      "metadata": {
        "id": "SqKnZVAQcdBe",
        "colab_type": "code",
        "outputId": "0f9814c4-fa46-4abf-cc87-7ea97003ad51",
        "colab": {
          "base_uri": "https://localhost:8080/",
          "height": 34
        }
      },
      "cell_type": "code",
      "source": [
        "lista.append(3)\n",
        "lista.append(0)\n",
        "lista"
      ],
      "execution_count": 0,
      "outputs": [
        {
          "output_type": "execute_result",
          "data": {
            "text/plain": [
              "[2, 3, 10, 50, 25, 3, 0]"
            ]
          },
          "metadata": {
            "tags": []
          },
          "execution_count": 36
        }
      ]
    },
    {
      "metadata": {
        "id": "bDzXyWxFcr5e",
        "colab_type": "code",
        "outputId": "3891102f-ef6a-4583-f3f8-40e141149925",
        "colab": {
          "base_uri": "https://localhost:8080/",
          "height": 34
        }
      },
      "cell_type": "code",
      "source": [
        "conjunto2 = set(lista)\n",
        "conjunto2"
      ],
      "execution_count": 0,
      "outputs": [
        {
          "output_type": "execute_result",
          "data": {
            "text/plain": [
              "{0, 2, 3, 10, 25, 50}"
            ]
          },
          "metadata": {
            "tags": []
          },
          "execution_count": 37
        }
      ]
    },
    {
      "metadata": {
        "id": "5-LetziCcz7M",
        "colab_type": "code",
        "outputId": "8c096e52-cafd-49b6-a1bf-4e2f532d405e",
        "colab": {
          "base_uri": "https://localhost:8080/",
          "height": 34
        }
      },
      "cell_type": "code",
      "source": [
        "print(tupla[1])"
      ],
      "execution_count": 0,
      "outputs": [
        {
          "output_type": "stream",
          "text": [
            "2\n"
          ],
          "name": "stdout"
        }
      ]
    },
    {
      "metadata": {
        "id": "e-1dtyXmdNjS",
        "colab_type": "code",
        "outputId": "87d58355-7001-4a1a-e1a7-7bdb51efe7d5",
        "colab": {
          "base_uri": "https://localhost:8080/",
          "height": 34
        }
      },
      "cell_type": "code",
      "source": [
        "v = 1\n",
        "try:\n",
        "  lista.index(v)\n",
        "  print(\"Encontrei\")\n",
        "except ValueError:\n",
        "  print(\"O número não existe\")"
      ],
      "execution_count": 0,
      "outputs": [
        {
          "output_type": "stream",
          "text": [
            "O número não existe\n"
          ],
          "name": "stdout"
        }
      ]
    },
    {
      "metadata": {
        "id": "E-H0aF0rd0Jg",
        "colab_type": "code",
        "colab": {}
      },
      "cell_type": "code",
      "source": [
        ""
      ],
      "execution_count": 0,
      "outputs": []
    }
  ]
}